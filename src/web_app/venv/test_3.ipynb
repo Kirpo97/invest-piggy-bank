{
 "cells": [
  {
   "cell_type": "code",
   "execution_count": null,
   "metadata": {},
   "outputs": [],
   "source": [
    "# принудительно отключим предупреждения системы\n",
    "import warnings\n",
    "warnings.simplefilter(action = 'ignore', category = Warning)\n",
    "import pandas as pd\n",
    "import numpy as np\n",
    "from statsmodels.tsa.statespace.sarimax import SARIMAX\n",
    "import matplotlib.pyplot as plt\n",
    "%matplotlib inline  \n",
    "\n",
    "#t = Ticers()\n",
    "#t.dowload_data('GAZP', '2020-01-01', '2022-12-01')\n",
    "mts = pd.read_csv('./data/MTSI.csv')\n",
    "\n",
    "mts['No'] = np.arange(mts.shape[0])\n",
    "\n",
    "# Индексируем поле Data\n",
    "mts.set_index('No', inplace=True)\n",
    "# Переводим текстоый формат в datetime для удобного проведения срезов\n",
    "mts.index = pd.to_numeric(mts.index)\n",
    "\n",
    "\n",
    "\n"
   ]
  }
 ],
 "metadata": {
  "kernelspec": {
   "display_name": "venv",
   "language": "python",
   "name": "python3"
  },
  "language_info": {
   "name": "python",
   "version": "3.10.9 (tags/v3.10.9:1dd9be6, Dec  6 2022, 20:01:21) [MSC v.1934 64 bit (AMD64)]"
  },
  "orig_nbformat": 4,
  "vscode": {
   "interpreter": {
    "hash": "dc8c0440fd843853aca701dc3c27b42582ef966a29d485cbf85dcec49c1d36db"
   }
  }
 },
 "nbformat": 4,
 "nbformat_minor": 2
}
